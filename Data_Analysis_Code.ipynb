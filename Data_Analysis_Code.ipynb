{
 "cells": [
  {
   "cell_type": "markdown",
   "id": "cd6dc305-555e-4e27-9fd1-9da6fc62f707",
   "metadata": {},
   "source": [
    "➡Importing Libraries"
   ]
  },
  {
   "cell_type": "code",
   "execution_count": 88,
   "id": "396d1b2f-025c-4bbc-9156-101560407f96",
   "metadata": {},
   "outputs": [
    {
     "name": "stdout",
     "output_type": "stream",
     "text": [
      "Libraries imported...!\n"
     ]
    }
   ],
   "source": [
    "import os\n",
    "import pandas as pd\n",
    "import matplotlib.pyplot as plt\n",
    "import seaborn as sns\n",
    "import warnings\n",
    "warnings.filterwarnings(\"ignore\")\n",
    "\n",
    "print(\"Libraries imported...!\")"
   ]
  },
  {
   "cell_type": "code",
   "execution_count": 102,
   "id": "ca967e4a-2137-4277-9b59-5e8f6243637b",
   "metadata": {},
   "outputs": [
    {
     "name": "stdout",
     "output_type": "stream",
     "text": [
      "Dataset loaded...:)\n"
     ]
    }
   ],
   "source": [
    "dataframe = pd.read_csv(\"C:/Users/OCS/OneDrive/Documents/Projects/Cognifyz/Dataset .csv\")\n",
    "print(\"Dataset loaded...:)\")"
   ]
  },
  {
   "cell_type": "markdown",
   "id": "66362a11-7836-4f04-a167-682a86ba6805",
   "metadata": {},
   "source": [
    "➡To check total number of rows and columns"
   ]
  },
  {
   "cell_type": "code",
   "execution_count": 3,
   "id": "30b7c7df-930b-4547-a3aa-88a4846711e5",
   "metadata": {},
   "outputs": [
    {
     "data": {
      "text/plain": [
       "(9551, 21)"
      ]
     },
     "execution_count": 3,
     "metadata": {},
     "output_type": "execute_result"
    }
   ],
   "source": [
    "dataframe.shape"
   ]
  },
  {
   "cell_type": "markdown",
   "id": "bc9569bf-a87a-4971-8309-421094c0ed76",
   "metadata": {},
   "source": [
    "➡To show the top 5 rows of our data"
   ]
  },
  {
   "cell_type": "code",
   "execution_count": 4,
   "id": "a0acb2ef-9fb4-4729-a83b-e7b560c524a8",
   "metadata": {},
   "outputs": [
    {
     "data": {
      "text/html": [
       "<div>\n",
       "<style scoped>\n",
       "    .dataframe tbody tr th:only-of-type {\n",
       "        vertical-align: middle;\n",
       "    }\n",
       "\n",
       "    .dataframe tbody tr th {\n",
       "        vertical-align: top;\n",
       "    }\n",
       "\n",
       "    .dataframe thead th {\n",
       "        text-align: right;\n",
       "    }\n",
       "</style>\n",
       "<table border=\"1\" class=\"dataframe\">\n",
       "  <thead>\n",
       "    <tr style=\"text-align: right;\">\n",
       "      <th></th>\n",
       "      <th>Restaurant ID</th>\n",
       "      <th>Restaurant Name</th>\n",
       "      <th>Country Code</th>\n",
       "      <th>City</th>\n",
       "      <th>Address</th>\n",
       "      <th>Locality</th>\n",
       "      <th>Locality Verbose</th>\n",
       "      <th>Longitude</th>\n",
       "      <th>Latitude</th>\n",
       "      <th>Cuisines</th>\n",
       "      <th>...</th>\n",
       "      <th>Currency</th>\n",
       "      <th>Has Table booking</th>\n",
       "      <th>Has Online delivery</th>\n",
       "      <th>Is delivering now</th>\n",
       "      <th>Switch to order menu</th>\n",
       "      <th>Price range</th>\n",
       "      <th>Aggregate rating</th>\n",
       "      <th>Rating color</th>\n",
       "      <th>Rating text</th>\n",
       "      <th>Votes</th>\n",
       "    </tr>\n",
       "  </thead>\n",
       "  <tbody>\n",
       "    <tr>\n",
       "      <th>0</th>\n",
       "      <td>6317637</td>\n",
       "      <td>Le Petit Souffle</td>\n",
       "      <td>162</td>\n",
       "      <td>Makati City</td>\n",
       "      <td>Third Floor, Century City Mall, Kalayaan Avenu...</td>\n",
       "      <td>Century City Mall, Poblacion, Makati City</td>\n",
       "      <td>Century City Mall, Poblacion, Makati City, Mak...</td>\n",
       "      <td>121.027535</td>\n",
       "      <td>14.565443</td>\n",
       "      <td>French, Japanese, Desserts</td>\n",
       "      <td>...</td>\n",
       "      <td>Botswana Pula(P)</td>\n",
       "      <td>Yes</td>\n",
       "      <td>No</td>\n",
       "      <td>No</td>\n",
       "      <td>No</td>\n",
       "      <td>3</td>\n",
       "      <td>4.8</td>\n",
       "      <td>Dark Green</td>\n",
       "      <td>Excellent</td>\n",
       "      <td>314</td>\n",
       "    </tr>\n",
       "    <tr>\n",
       "      <th>1</th>\n",
       "      <td>6304287</td>\n",
       "      <td>Izakaya Kikufuji</td>\n",
       "      <td>162</td>\n",
       "      <td>Makati City</td>\n",
       "      <td>Little Tokyo, 2277 Chino Roces Avenue, Legaspi...</td>\n",
       "      <td>Little Tokyo, Legaspi Village, Makati City</td>\n",
       "      <td>Little Tokyo, Legaspi Village, Makati City, Ma...</td>\n",
       "      <td>121.014101</td>\n",
       "      <td>14.553708</td>\n",
       "      <td>Japanese</td>\n",
       "      <td>...</td>\n",
       "      <td>Botswana Pula(P)</td>\n",
       "      <td>Yes</td>\n",
       "      <td>No</td>\n",
       "      <td>No</td>\n",
       "      <td>No</td>\n",
       "      <td>3</td>\n",
       "      <td>4.5</td>\n",
       "      <td>Dark Green</td>\n",
       "      <td>Excellent</td>\n",
       "      <td>591</td>\n",
       "    </tr>\n",
       "    <tr>\n",
       "      <th>2</th>\n",
       "      <td>6300002</td>\n",
       "      <td>Heat - Edsa Shangri-La</td>\n",
       "      <td>162</td>\n",
       "      <td>Mandaluyong City</td>\n",
       "      <td>Edsa Shangri-La, 1 Garden Way, Ortigas, Mandal...</td>\n",
       "      <td>Edsa Shangri-La, Ortigas, Mandaluyong City</td>\n",
       "      <td>Edsa Shangri-La, Ortigas, Mandaluyong City, Ma...</td>\n",
       "      <td>121.056831</td>\n",
       "      <td>14.581404</td>\n",
       "      <td>Seafood, Asian, Filipino, Indian</td>\n",
       "      <td>...</td>\n",
       "      <td>Botswana Pula(P)</td>\n",
       "      <td>Yes</td>\n",
       "      <td>No</td>\n",
       "      <td>No</td>\n",
       "      <td>No</td>\n",
       "      <td>4</td>\n",
       "      <td>4.4</td>\n",
       "      <td>Green</td>\n",
       "      <td>Very Good</td>\n",
       "      <td>270</td>\n",
       "    </tr>\n",
       "    <tr>\n",
       "      <th>3</th>\n",
       "      <td>6318506</td>\n",
       "      <td>Ooma</td>\n",
       "      <td>162</td>\n",
       "      <td>Mandaluyong City</td>\n",
       "      <td>Third Floor, Mega Fashion Hall, SM Megamall, O...</td>\n",
       "      <td>SM Megamall, Ortigas, Mandaluyong City</td>\n",
       "      <td>SM Megamall, Ortigas, Mandaluyong City, Mandal...</td>\n",
       "      <td>121.056475</td>\n",
       "      <td>14.585318</td>\n",
       "      <td>Japanese, Sushi</td>\n",
       "      <td>...</td>\n",
       "      <td>Botswana Pula(P)</td>\n",
       "      <td>No</td>\n",
       "      <td>No</td>\n",
       "      <td>No</td>\n",
       "      <td>No</td>\n",
       "      <td>4</td>\n",
       "      <td>4.9</td>\n",
       "      <td>Dark Green</td>\n",
       "      <td>Excellent</td>\n",
       "      <td>365</td>\n",
       "    </tr>\n",
       "    <tr>\n",
       "      <th>4</th>\n",
       "      <td>6314302</td>\n",
       "      <td>Sambo Kojin</td>\n",
       "      <td>162</td>\n",
       "      <td>Mandaluyong City</td>\n",
       "      <td>Third Floor, Mega Atrium, SM Megamall, Ortigas...</td>\n",
       "      <td>SM Megamall, Ortigas, Mandaluyong City</td>\n",
       "      <td>SM Megamall, Ortigas, Mandaluyong City, Mandal...</td>\n",
       "      <td>121.057508</td>\n",
       "      <td>14.584450</td>\n",
       "      <td>Japanese, Korean</td>\n",
       "      <td>...</td>\n",
       "      <td>Botswana Pula(P)</td>\n",
       "      <td>Yes</td>\n",
       "      <td>No</td>\n",
       "      <td>No</td>\n",
       "      <td>No</td>\n",
       "      <td>4</td>\n",
       "      <td>4.8</td>\n",
       "      <td>Dark Green</td>\n",
       "      <td>Excellent</td>\n",
       "      <td>229</td>\n",
       "    </tr>\n",
       "  </tbody>\n",
       "</table>\n",
       "<p>5 rows × 21 columns</p>\n",
       "</div>"
      ],
      "text/plain": [
       "   Restaurant ID         Restaurant Name  Country Code              City  \\\n",
       "0        6317637        Le Petit Souffle           162       Makati City   \n",
       "1        6304287        Izakaya Kikufuji           162       Makati City   \n",
       "2        6300002  Heat - Edsa Shangri-La           162  Mandaluyong City   \n",
       "3        6318506                    Ooma           162  Mandaluyong City   \n",
       "4        6314302             Sambo Kojin           162  Mandaluyong City   \n",
       "\n",
       "                                             Address  \\\n",
       "0  Third Floor, Century City Mall, Kalayaan Avenu...   \n",
       "1  Little Tokyo, 2277 Chino Roces Avenue, Legaspi...   \n",
       "2  Edsa Shangri-La, 1 Garden Way, Ortigas, Mandal...   \n",
       "3  Third Floor, Mega Fashion Hall, SM Megamall, O...   \n",
       "4  Third Floor, Mega Atrium, SM Megamall, Ortigas...   \n",
       "\n",
       "                                     Locality  \\\n",
       "0   Century City Mall, Poblacion, Makati City   \n",
       "1  Little Tokyo, Legaspi Village, Makati City   \n",
       "2  Edsa Shangri-La, Ortigas, Mandaluyong City   \n",
       "3      SM Megamall, Ortigas, Mandaluyong City   \n",
       "4      SM Megamall, Ortigas, Mandaluyong City   \n",
       "\n",
       "                                    Locality Verbose   Longitude   Latitude  \\\n",
       "0  Century City Mall, Poblacion, Makati City, Mak...  121.027535  14.565443   \n",
       "1  Little Tokyo, Legaspi Village, Makati City, Ma...  121.014101  14.553708   \n",
       "2  Edsa Shangri-La, Ortigas, Mandaluyong City, Ma...  121.056831  14.581404   \n",
       "3  SM Megamall, Ortigas, Mandaluyong City, Mandal...  121.056475  14.585318   \n",
       "4  SM Megamall, Ortigas, Mandaluyong City, Mandal...  121.057508  14.584450   \n",
       "\n",
       "                           Cuisines  ...          Currency Has Table booking  \\\n",
       "0        French, Japanese, Desserts  ...  Botswana Pula(P)               Yes   \n",
       "1                          Japanese  ...  Botswana Pula(P)               Yes   \n",
       "2  Seafood, Asian, Filipino, Indian  ...  Botswana Pula(P)               Yes   \n",
       "3                   Japanese, Sushi  ...  Botswana Pula(P)                No   \n",
       "4                  Japanese, Korean  ...  Botswana Pula(P)               Yes   \n",
       "\n",
       "  Has Online delivery Is delivering now Switch to order menu Price range  \\\n",
       "0                  No                No                   No           3   \n",
       "1                  No                No                   No           3   \n",
       "2                  No                No                   No           4   \n",
       "3                  No                No                   No           4   \n",
       "4                  No                No                   No           4   \n",
       "\n",
       "   Aggregate rating  Rating color Rating text Votes  \n",
       "0               4.8    Dark Green   Excellent   314  \n",
       "1               4.5    Dark Green   Excellent   591  \n",
       "2               4.4         Green   Very Good   270  \n",
       "3               4.9    Dark Green   Excellent   365  \n",
       "4               4.8    Dark Green   Excellent   229  \n",
       "\n",
       "[5 rows x 21 columns]"
      ]
     },
     "execution_count": 4,
     "metadata": {},
     "output_type": "execute_result"
    }
   ],
   "source": [
    "dataframe.head(5)"
   ]
  },
  {
   "cell_type": "markdown",
   "id": "cd9a88fb-5fec-4594-9a94-982e5d4a3db7",
   "metadata": {},
   "source": [
    "To show the bottom 5 rows of our data"
   ]
  },
  {
   "cell_type": "code",
   "execution_count": 5,
   "id": "149fd01d-5bc9-4bbe-8494-b385d1e79b16",
   "metadata": {},
   "outputs": [
    {
     "data": {
      "text/html": [
       "<div>\n",
       "<style scoped>\n",
       "    .dataframe tbody tr th:only-of-type {\n",
       "        vertical-align: middle;\n",
       "    }\n",
       "\n",
       "    .dataframe tbody tr th {\n",
       "        vertical-align: top;\n",
       "    }\n",
       "\n",
       "    .dataframe thead th {\n",
       "        text-align: right;\n",
       "    }\n",
       "</style>\n",
       "<table border=\"1\" class=\"dataframe\">\n",
       "  <thead>\n",
       "    <tr style=\"text-align: right;\">\n",
       "      <th></th>\n",
       "      <th>Restaurant ID</th>\n",
       "      <th>Restaurant Name</th>\n",
       "      <th>Country Code</th>\n",
       "      <th>City</th>\n",
       "      <th>Address</th>\n",
       "      <th>Locality</th>\n",
       "      <th>Locality Verbose</th>\n",
       "      <th>Longitude</th>\n",
       "      <th>Latitude</th>\n",
       "      <th>Cuisines</th>\n",
       "      <th>...</th>\n",
       "      <th>Currency</th>\n",
       "      <th>Has Table booking</th>\n",
       "      <th>Has Online delivery</th>\n",
       "      <th>Is delivering now</th>\n",
       "      <th>Switch to order menu</th>\n",
       "      <th>Price range</th>\n",
       "      <th>Aggregate rating</th>\n",
       "      <th>Rating color</th>\n",
       "      <th>Rating text</th>\n",
       "      <th>Votes</th>\n",
       "    </tr>\n",
       "  </thead>\n",
       "  <tbody>\n",
       "    <tr>\n",
       "      <th>9546</th>\n",
       "      <td>5915730</td>\n",
       "      <td>Naml۱ Gurme</td>\n",
       "      <td>208</td>\n",
       "      <td>��stanbul</td>\n",
       "      <td>Kemanke�� Karamustafa Pa��a Mahallesi, R۱ht۱m ...</td>\n",
       "      <td>Karak�_y</td>\n",
       "      <td>Karak�_y, ��stanbul</td>\n",
       "      <td>28.977392</td>\n",
       "      <td>41.022793</td>\n",
       "      <td>Turkish</td>\n",
       "      <td>...</td>\n",
       "      <td>Turkish Lira(TL)</td>\n",
       "      <td>No</td>\n",
       "      <td>No</td>\n",
       "      <td>No</td>\n",
       "      <td>No</td>\n",
       "      <td>3</td>\n",
       "      <td>4.1</td>\n",
       "      <td>Green</td>\n",
       "      <td>Very Good</td>\n",
       "      <td>788</td>\n",
       "    </tr>\n",
       "    <tr>\n",
       "      <th>9547</th>\n",
       "      <td>5908749</td>\n",
       "      <td>Ceviz A��ac۱</td>\n",
       "      <td>208</td>\n",
       "      <td>��stanbul</td>\n",
       "      <td>Ko��uyolu Mahallesi, Muhittin ��st�_nda�� Cadd...</td>\n",
       "      <td>Ko��uyolu</td>\n",
       "      <td>Ko��uyolu, ��stanbul</td>\n",
       "      <td>29.041297</td>\n",
       "      <td>41.009847</td>\n",
       "      <td>World Cuisine, Patisserie, Cafe</td>\n",
       "      <td>...</td>\n",
       "      <td>Turkish Lira(TL)</td>\n",
       "      <td>No</td>\n",
       "      <td>No</td>\n",
       "      <td>No</td>\n",
       "      <td>No</td>\n",
       "      <td>3</td>\n",
       "      <td>4.2</td>\n",
       "      <td>Green</td>\n",
       "      <td>Very Good</td>\n",
       "      <td>1034</td>\n",
       "    </tr>\n",
       "    <tr>\n",
       "      <th>9548</th>\n",
       "      <td>5915807</td>\n",
       "      <td>Huqqa</td>\n",
       "      <td>208</td>\n",
       "      <td>��stanbul</td>\n",
       "      <td>Kuru�_e��me Mahallesi, Muallim Naci Caddesi, N...</td>\n",
       "      <td>Kuru�_e��me</td>\n",
       "      <td>Kuru�_e��me, ��stanbul</td>\n",
       "      <td>29.034640</td>\n",
       "      <td>41.055817</td>\n",
       "      <td>Italian, World Cuisine</td>\n",
       "      <td>...</td>\n",
       "      <td>Turkish Lira(TL)</td>\n",
       "      <td>No</td>\n",
       "      <td>No</td>\n",
       "      <td>No</td>\n",
       "      <td>No</td>\n",
       "      <td>4</td>\n",
       "      <td>3.7</td>\n",
       "      <td>Yellow</td>\n",
       "      <td>Good</td>\n",
       "      <td>661</td>\n",
       "    </tr>\n",
       "    <tr>\n",
       "      <th>9549</th>\n",
       "      <td>5916112</td>\n",
       "      <td>A���k Kahve</td>\n",
       "      <td>208</td>\n",
       "      <td>��stanbul</td>\n",
       "      <td>Kuru�_e��me Mahallesi, Muallim Naci Caddesi, N...</td>\n",
       "      <td>Kuru�_e��me</td>\n",
       "      <td>Kuru�_e��me, ��stanbul</td>\n",
       "      <td>29.036019</td>\n",
       "      <td>41.057979</td>\n",
       "      <td>Restaurant Cafe</td>\n",
       "      <td>...</td>\n",
       "      <td>Turkish Lira(TL)</td>\n",
       "      <td>No</td>\n",
       "      <td>No</td>\n",
       "      <td>No</td>\n",
       "      <td>No</td>\n",
       "      <td>4</td>\n",
       "      <td>4.0</td>\n",
       "      <td>Green</td>\n",
       "      <td>Very Good</td>\n",
       "      <td>901</td>\n",
       "    </tr>\n",
       "    <tr>\n",
       "      <th>9550</th>\n",
       "      <td>5927402</td>\n",
       "      <td>Walter's Coffee Roastery</td>\n",
       "      <td>208</td>\n",
       "      <td>��stanbul</td>\n",
       "      <td>Cafea��a Mahallesi, Bademalt۱ Sokak, No 21/B, ...</td>\n",
       "      <td>Moda</td>\n",
       "      <td>Moda, ��stanbul</td>\n",
       "      <td>29.026016</td>\n",
       "      <td>40.984776</td>\n",
       "      <td>Cafe</td>\n",
       "      <td>...</td>\n",
       "      <td>Turkish Lira(TL)</td>\n",
       "      <td>No</td>\n",
       "      <td>No</td>\n",
       "      <td>No</td>\n",
       "      <td>No</td>\n",
       "      <td>2</td>\n",
       "      <td>4.0</td>\n",
       "      <td>Green</td>\n",
       "      <td>Very Good</td>\n",
       "      <td>591</td>\n",
       "    </tr>\n",
       "  </tbody>\n",
       "</table>\n",
       "<p>5 rows × 21 columns</p>\n",
       "</div>"
      ],
      "text/plain": [
       "      Restaurant ID           Restaurant Name  Country Code       City  \\\n",
       "9546        5915730               Naml۱ Gurme           208  ��stanbul   \n",
       "9547        5908749              Ceviz A��ac۱           208  ��stanbul   \n",
       "9548        5915807                     Huqqa           208  ��stanbul   \n",
       "9549        5916112               A���k Kahve           208  ��stanbul   \n",
       "9550        5927402  Walter's Coffee Roastery           208  ��stanbul   \n",
       "\n",
       "                                                Address     Locality  \\\n",
       "9546  Kemanke�� Karamustafa Pa��a Mahallesi, R۱ht۱m ...     Karak�_y   \n",
       "9547  Ko��uyolu Mahallesi, Muhittin ��st�_nda�� Cadd...    Ko��uyolu   \n",
       "9548  Kuru�_e��me Mahallesi, Muallim Naci Caddesi, N...  Kuru�_e��me   \n",
       "9549  Kuru�_e��me Mahallesi, Muallim Naci Caddesi, N...  Kuru�_e��me   \n",
       "9550  Cafea��a Mahallesi, Bademalt۱ Sokak, No 21/B, ...         Moda   \n",
       "\n",
       "            Locality Verbose  Longitude   Latitude  \\\n",
       "9546     Karak�_y, ��stanbul  28.977392  41.022793   \n",
       "9547    Ko��uyolu, ��stanbul  29.041297  41.009847   \n",
       "9548  Kuru�_e��me, ��stanbul  29.034640  41.055817   \n",
       "9549  Kuru�_e��me, ��stanbul  29.036019  41.057979   \n",
       "9550         Moda, ��stanbul  29.026016  40.984776   \n",
       "\n",
       "                             Cuisines  ...          Currency  \\\n",
       "9546                          Turkish  ...  Turkish Lira(TL)   \n",
       "9547  World Cuisine, Patisserie, Cafe  ...  Turkish Lira(TL)   \n",
       "9548           Italian, World Cuisine  ...  Turkish Lira(TL)   \n",
       "9549                  Restaurant Cafe  ...  Turkish Lira(TL)   \n",
       "9550                             Cafe  ...  Turkish Lira(TL)   \n",
       "\n",
       "     Has Table booking Has Online delivery Is delivering now  \\\n",
       "9546                No                  No                No   \n",
       "9547                No                  No                No   \n",
       "9548                No                  No                No   \n",
       "9549                No                  No                No   \n",
       "9550                No                  No                No   \n",
       "\n",
       "     Switch to order menu Price range  Aggregate rating  Rating color  \\\n",
       "9546                   No           3               4.1         Green   \n",
       "9547                   No           3               4.2         Green   \n",
       "9548                   No           4               3.7        Yellow   \n",
       "9549                   No           4               4.0         Green   \n",
       "9550                   No           2               4.0         Green   \n",
       "\n",
       "     Rating text Votes  \n",
       "9546   Very Good   788  \n",
       "9547   Very Good  1034  \n",
       "9548        Good   661  \n",
       "9549   Very Good   901  \n",
       "9550   Very Good   591  \n",
       "\n",
       "[5 rows x 21 columns]"
      ]
     },
     "execution_count": 5,
     "metadata": {},
     "output_type": "execute_result"
    }
   ],
   "source": [
    "dataframe.tail(5)"
   ]
  },
  {
   "cell_type": "markdown",
   "id": "3f9743ba-e0ea-49a9-8f4c-76af94bcdff9",
   "metadata": {},
   "source": [
    "➡DATA CLEANING"
   ]
  },
  {
   "cell_type": "markdown",
   "id": "8d84f12d-ea5d-426e-a67b-6c9dbb08c5e5",
   "metadata": {},
   "source": [
    "a. Showing all the rows,columns,data_type to see that there is no null values present in our dataset"
   ]
  },
  {
   "cell_type": "code",
   "execution_count": 6,
   "id": "ecf1addb-7066-4f3e-a536-843a0be5986d",
   "metadata": {},
   "outputs": [
    {
     "name": "stdout",
     "output_type": "stream",
     "text": [
      "<class 'pandas.core.frame.DataFrame'>\n",
      "RangeIndex: 9551 entries, 0 to 9550\n",
      "Data columns (total 21 columns):\n",
      " #   Column                Non-Null Count  Dtype  \n",
      "---  ------                --------------  -----  \n",
      " 0   Restaurant ID         9551 non-null   int64  \n",
      " 1   Restaurant Name       9551 non-null   object \n",
      " 2   Country Code          9551 non-null   int64  \n",
      " 3   City                  9551 non-null   object \n",
      " 4   Address               9551 non-null   object \n",
      " 5   Locality              9551 non-null   object \n",
      " 6   Locality Verbose      9551 non-null   object \n",
      " 7   Longitude             9551 non-null   float64\n",
      " 8   Latitude              9551 non-null   float64\n",
      " 9   Cuisines              9542 non-null   object \n",
      " 10  Average Cost for two  9551 non-null   int64  \n",
      " 11  Currency              9551 non-null   object \n",
      " 12  Has Table booking     9551 non-null   object \n",
      " 13  Has Online delivery   9551 non-null   object \n",
      " 14  Is delivering now     9551 non-null   object \n",
      " 15  Switch to order menu  9551 non-null   object \n",
      " 16  Price range           9551 non-null   int64  \n",
      " 17  Aggregate rating      9551 non-null   float64\n",
      " 18  Rating color          9551 non-null   object \n",
      " 19  Rating text           9551 non-null   object \n",
      " 20  Votes                 9551 non-null   int64  \n",
      "dtypes: float64(3), int64(5), object(13)\n",
      "memory usage: 1.5+ MB\n"
     ]
    }
   ],
   "source": [
    "dataframe.info()"
   ]
  },
  {
   "cell_type": "markdown",
   "id": "94b61ea6-c569-4fe3-8183-0781695e78db",
   "metadata": {},
   "source": [
    "b. This method returns description of the data in the DataFrame (i.e. count, mean, std, etc)"
   ]
  },
  {
   "cell_type": "code",
   "execution_count": 7,
   "id": "dc21ce1f-6419-4e53-8fd7-413cf0d3ace0",
   "metadata": {},
   "outputs": [
    {
     "data": {
      "text/html": [
       "<div>\n",
       "<style scoped>\n",
       "    .dataframe tbody tr th:only-of-type {\n",
       "        vertical-align: middle;\n",
       "    }\n",
       "\n",
       "    .dataframe tbody tr th {\n",
       "        vertical-align: top;\n",
       "    }\n",
       "\n",
       "    .dataframe thead th {\n",
       "        text-align: right;\n",
       "    }\n",
       "</style>\n",
       "<table border=\"1\" class=\"dataframe\">\n",
       "  <thead>\n",
       "    <tr style=\"text-align: right;\">\n",
       "      <th></th>\n",
       "      <th>Restaurant ID</th>\n",
       "      <th>Country Code</th>\n",
       "      <th>Longitude</th>\n",
       "      <th>Latitude</th>\n",
       "      <th>Average Cost for two</th>\n",
       "      <th>Price range</th>\n",
       "      <th>Aggregate rating</th>\n",
       "      <th>Votes</th>\n",
       "    </tr>\n",
       "  </thead>\n",
       "  <tbody>\n",
       "    <tr>\n",
       "      <th>count</th>\n",
       "      <td>9.551000e+03</td>\n",
       "      <td>9551.000000</td>\n",
       "      <td>9551.000000</td>\n",
       "      <td>9551.000000</td>\n",
       "      <td>9551.000000</td>\n",
       "      <td>9551.000000</td>\n",
       "      <td>9551.000000</td>\n",
       "      <td>9551.000000</td>\n",
       "    </tr>\n",
       "    <tr>\n",
       "      <th>mean</th>\n",
       "      <td>9.051128e+06</td>\n",
       "      <td>18.365616</td>\n",
       "      <td>64.126574</td>\n",
       "      <td>25.854381</td>\n",
       "      <td>1199.210763</td>\n",
       "      <td>1.804837</td>\n",
       "      <td>2.666370</td>\n",
       "      <td>156.909748</td>\n",
       "    </tr>\n",
       "    <tr>\n",
       "      <th>std</th>\n",
       "      <td>8.791521e+06</td>\n",
       "      <td>56.750546</td>\n",
       "      <td>41.467058</td>\n",
       "      <td>11.007935</td>\n",
       "      <td>16121.183073</td>\n",
       "      <td>0.905609</td>\n",
       "      <td>1.516378</td>\n",
       "      <td>430.169145</td>\n",
       "    </tr>\n",
       "    <tr>\n",
       "      <th>min</th>\n",
       "      <td>5.300000e+01</td>\n",
       "      <td>1.000000</td>\n",
       "      <td>-157.948486</td>\n",
       "      <td>-41.330428</td>\n",
       "      <td>0.000000</td>\n",
       "      <td>1.000000</td>\n",
       "      <td>0.000000</td>\n",
       "      <td>0.000000</td>\n",
       "    </tr>\n",
       "    <tr>\n",
       "      <th>25%</th>\n",
       "      <td>3.019625e+05</td>\n",
       "      <td>1.000000</td>\n",
       "      <td>77.081343</td>\n",
       "      <td>28.478713</td>\n",
       "      <td>250.000000</td>\n",
       "      <td>1.000000</td>\n",
       "      <td>2.500000</td>\n",
       "      <td>5.000000</td>\n",
       "    </tr>\n",
       "    <tr>\n",
       "      <th>50%</th>\n",
       "      <td>6.004089e+06</td>\n",
       "      <td>1.000000</td>\n",
       "      <td>77.191964</td>\n",
       "      <td>28.570469</td>\n",
       "      <td>400.000000</td>\n",
       "      <td>2.000000</td>\n",
       "      <td>3.200000</td>\n",
       "      <td>31.000000</td>\n",
       "    </tr>\n",
       "    <tr>\n",
       "      <th>75%</th>\n",
       "      <td>1.835229e+07</td>\n",
       "      <td>1.000000</td>\n",
       "      <td>77.282006</td>\n",
       "      <td>28.642758</td>\n",
       "      <td>700.000000</td>\n",
       "      <td>2.000000</td>\n",
       "      <td>3.700000</td>\n",
       "      <td>131.000000</td>\n",
       "    </tr>\n",
       "    <tr>\n",
       "      <th>max</th>\n",
       "      <td>1.850065e+07</td>\n",
       "      <td>216.000000</td>\n",
       "      <td>174.832089</td>\n",
       "      <td>55.976980</td>\n",
       "      <td>800000.000000</td>\n",
       "      <td>4.000000</td>\n",
       "      <td>4.900000</td>\n",
       "      <td>10934.000000</td>\n",
       "    </tr>\n",
       "  </tbody>\n",
       "</table>\n",
       "</div>"
      ],
      "text/plain": [
       "       Restaurant ID  Country Code    Longitude     Latitude  \\\n",
       "count   9.551000e+03   9551.000000  9551.000000  9551.000000   \n",
       "mean    9.051128e+06     18.365616    64.126574    25.854381   \n",
       "std     8.791521e+06     56.750546    41.467058    11.007935   \n",
       "min     5.300000e+01      1.000000  -157.948486   -41.330428   \n",
       "25%     3.019625e+05      1.000000    77.081343    28.478713   \n",
       "50%     6.004089e+06      1.000000    77.191964    28.570469   \n",
       "75%     1.835229e+07      1.000000    77.282006    28.642758   \n",
       "max     1.850065e+07    216.000000   174.832089    55.976980   \n",
       "\n",
       "       Average Cost for two  Price range  Aggregate rating         Votes  \n",
       "count           9551.000000  9551.000000       9551.000000   9551.000000  \n",
       "mean            1199.210763     1.804837          2.666370    156.909748  \n",
       "std            16121.183073     0.905609          1.516378    430.169145  \n",
       "min                0.000000     1.000000          0.000000      0.000000  \n",
       "25%              250.000000     1.000000          2.500000      5.000000  \n",
       "50%              400.000000     2.000000          3.200000     31.000000  \n",
       "75%              700.000000     2.000000          3.700000    131.000000  \n",
       "max           800000.000000     4.000000          4.900000  10934.000000  "
      ]
     },
     "execution_count": 7,
     "metadata": {},
     "output_type": "execute_result"
    }
   ],
   "source": [
    "dataframe.describe()"
   ]
  },
  {
   "cell_type": "markdown",
   "id": "1473bbcf-a368-4fdb-80c5-cb4269952df3",
   "metadata": {},
   "source": [
    "This method will print all the columns name."
   ]
  },
  {
   "cell_type": "code",
   "execution_count": 8,
   "id": "af3c1aa5-8889-41c3-999d-dcb8c7043274",
   "metadata": {},
   "outputs": [
    {
     "name": "stdout",
     "output_type": "stream",
     "text": [
      "Restaurant ID\n",
      "Restaurant Name\n",
      "Country Code\n",
      "City\n",
      "Address\n",
      "Locality\n",
      "Locality Verbose\n",
      "Longitude\n",
      "Latitude\n",
      "Cuisines\n",
      "Average Cost for two\n",
      "Currency\n",
      "Has Table booking\n",
      "Has Online delivery\n",
      "Is delivering now\n",
      "Switch to order menu\n",
      "Price range\n",
      "Aggregate rating\n",
      "Rating color\n",
      "Rating text\n",
      "Votes\n"
     ]
    }
   ],
   "source": [
    "for i in dataframe.columns:\n",
    "    print(i)"
   ]
  },
  {
   "cell_type": "markdown",
   "id": "0ddda02b-0de4-4308-8dfd-4344100c3daf",
   "metadata": {},
   "source": [
    "------------------------------------------------------------------------------------------LEVEL - 1------------------------------------------------------------------------------------------"
   ]
  },
  {
   "cell_type": "markdown",
   "id": "3f58593e-a603-4e6a-a128-b1bc83895806",
   "metadata": {},
   "source": [
    "->TASK_1 - Top Cuisines"
   ]
  },
  {
   "cell_type": "code",
   "execution_count": 10,
   "id": "c8aac03c-c071-4310-8010-c39dbcbb74eb",
   "metadata": {},
   "outputs": [
    {
     "name": "stdout",
     "output_type": "stream",
     "text": [
      "                                Cuisines  Counts\n",
      "0                           North Indian     936\n",
      "1                  North Indian, Chinese     511\n",
      "2                                Chinese     354\n",
      "3                              Fast Food     354\n",
      "4                  North Indian, Mughlai     334\n",
      "...                                  ...     ...\n",
      "1820     World Cuisine, Patisserie, Cafe       1\n",
      "1821                      Burger, Izgara       1\n",
      "1822                    Desserts, B�_rek       1\n",
      "1823  Restaurant Cafe, Turkish, Desserts       1\n",
      "1824           Restaurant Cafe, Desserts       1\n",
      "\n",
      "[1825 rows x 2 columns]\n"
     ]
    }
   ],
   "source": [
    "cuisine_counts = dataframe[\"Cuisines\"].value_counts()\n",
    "\n",
    "cuisine_counts_df = cuisine_counts.reset_index()\n",
    "cuisine_counts_df.columns = ['Cuisines', 'Counts']\n",
    "print(cuisine_counts_df)"
   ]
  },
  {
   "cell_type": "code",
   "execution_count": 12,
   "id": "223a2fa8-3a90-4bc2-ad3c-520a91d3c47d",
   "metadata": {},
   "outputs": [
    {
     "name": "stdout",
     "output_type": "stream",
     "text": [
      "                Cuisines  Count\n",
      "0           North Indian    936\n",
      "1  North Indian, Chinese    511\n",
      "2                Chinese    354\n"
     ]
    }
   ],
   "source": [
    "# a. To print \"3 top cuisines\" of the Restaurant\n",
    "\n",
    "top_3_cuisines = cuisine_counts.head(3)\n",
    "\n",
    "#creating a dataframe \"top_3_cuisines_df\" to print the Count as the column name\n",
    "\n",
    "top_3_cuisines_df = top_3_cuisines.reset_index()\n",
    "top_3_cuisines_df.columns = ['Cuisines' , 'Count']\n",
    "print(top_3_cuisines_df)"
   ]
  },
  {
   "cell_type": "code",
   "execution_count": 13,
   "id": "bf868843-0781-4dd9-a570-13f6c3b3e926",
   "metadata": {},
   "outputs": [
    {
     "name": "stdout",
     "output_type": "stream",
     "text": [
      "                Cuisines  Percentage\n",
      "0           North Indian    9.800021\n",
      "1  North Indian, Chinese    5.350225\n",
      "2                Chinese    3.706418\n"
     ]
    }
   ],
   "source": [
    "# b. Calculate the percentage of restaurants that serve each of the top cuisines.\n",
    "\n",
    "total_restaurants = dataframe.shape[0]\n",
    "top_3_cuisines_percentage = (top_3_cuisines / total_restaurants) * 100\n",
    "\n",
    "#To print the percentage as the column name\n",
    "\n",
    "top_3_cuisines_df = top_3_cuisines_percentage.reset_index()\n",
    "top_3_cuisines_df.columns = ['Cuisines', 'Percentage']\n",
    "print(top_3_cuisines_df)"
   ]
  },
  {
   "cell_type": "markdown",
   "id": "58de67b1-08d8-41e2-9464-0873517087f8",
   "metadata": {},
   "source": [
    "->TASK_2 - City Analysis"
   ]
  },
  {
   "cell_type": "code",
   "execution_count": 14,
   "id": "fda3b214-0929-4aec-aebc-b995ebfa30ae",
   "metadata": {},
   "outputs": [
    {
     "name": "stdout",
     "output_type": "stream",
     "text": [
      "The city with the highest number of restaurants is 'New Delhi' with '5473' restaurants.\n"
     ]
    }
   ],
   "source": [
    "# a. To print the city with the highest number of restaurants in the dataset.\n",
    "\n",
    "# Counts the occurences of Cities\n",
    "\n",
    "city_counts = dataframe['City'].value_counts().reset_index(name='Count')\n",
    "\n",
    "# Creating a dataframe \"top_city\"\n",
    "\n",
    "top_city = city_counts.sort_values(by = 'Count' , ascending=False).iloc[0]\n",
    "\n",
    "print(f\"The city with the highest number of restaurants is '{top_city['City']}' with '{top_city['Count']}' restaurants.\")"
   ]
  },
  {
   "cell_type": "code",
   "execution_count": 15,
   "id": "94296bc9-875c-4b95-b776-7abb6f61a014",
   "metadata": {},
   "outputs": [
    {
     "name": "stdout",
     "output_type": "stream",
     "text": [
      "                City  Aggregate rating\n",
      "0          Abu Dhabi               4.3\n",
      "1               Agra               4.0\n",
      "2          Ahmedabad               4.2\n",
      "3             Albany               3.6\n",
      "4          Allahabad               3.4\n",
      "..               ...               ...\n",
      "136          Weirton               3.9\n",
      "137  Wellington City               4.2\n",
      "138   Winchester Bay               3.2\n",
      "139          Yorkton               3.3\n",
      "140        ��stanbul               4.3\n",
      "\n",
      "[141 rows x 2 columns]\n"
     ]
    }
   ],
   "source": [
    "# b. Calculate the \"average rating\" for restaurants in each city\n",
    "\n",
    "average_ratings = dataframe.groupby('City')['Aggregate rating'].mean().reset_index().round(1)\n",
    "\n",
    "print(average_ratings)"
   ]
  },
  {
   "cell_type": "code",
   "execution_count": 16,
   "id": "4043caec-2dde-4b24-854b-8b6b4cc8295f",
   "metadata": {},
   "outputs": [
    {
     "name": "stdout",
     "output_type": "stream",
     "text": [
      "The city with the highest average rating is 'Inner City' with an average rating of 4.9.\n"
     ]
    }
   ],
   "source": [
    "# c. Determine the city with the \"highest average rating\"\n",
    "\n",
    "top_city = average_ratings.sort_values(by = 'Aggregate rating', ascending=False).iloc[0]\n",
    "\n",
    "#rounding off it to two digits\n",
    "\n",
    "print(f\"The city with the highest average rating is '{top_city['City']}' with an average rating of {top_city['Aggregate rating']:.1f}.\") "
   ]
  },
  {
   "cell_type": "markdown",
   "id": "9ff20e23-1da3-450f-ae0f-b6c124a385a7",
   "metadata": {},
   "source": [
    "->TASK_3 - Price Range Distribution"
   ]
  },
  {
   "cell_type": "code",
   "execution_count": 17,
   "id": "4abedc6b-a808-4aac-add9-c8b207c883bd",
   "metadata": {},
   "outputs": [
    {
     "data": {
      "image/png": "[encoded data removed]",
      "text/plain": [
       "<Figure size 900x600 with 1 Axes>"
      ]
     },
     "metadata": {},
     "output_type": "display_data"
    }
   ],
   "source": [
    "# a. Create a \"bar chart\" to visualize the distribution of price ranges among the restaurants.\n",
    "\n",
    "plt.figure(figsize=(9, 6))\n",
    "price_counts = dataframe['Price range'].value_counts()\n",
    "price_counts.plot(kind = 'bar', edgecolor = 'black')\n",
    "plt.title(\"Distribution of Price ranges among Restaurants\", fontsize = 15, fontweight = 'bold')\n",
    "plt.xlabel(\"Price Range\", fontweight = 'bold')\n",
    "plt.ylabel(\"Number of Restautrants\", fontweight = 'bold')\n",
    "plt.show()"
   ]
  },
  {
   "cell_type": "code",
   "execution_count": 18,
   "id": "2e1cc816-0ff4-474e-a988-428362ff6bd8",
   "metadata": {},
   "outputs": [
    {
     "name": "stdout",
     "output_type": "stream",
     "text": [
      "   Price range Percentage\n",
      "0            1      46.5%\n",
      "1            2      32.6%\n",
      "2            3      14.7%\n",
      "3            4       6.1%\n"
     ]
    }
   ],
   "source": [
    "# b. Calculate the percentage of restaurants in each price range category.\n",
    "\n",
    "# \"price_counts_percentage\" will calculate the %\n",
    "price_counts_percentage = dataframe['Price range'].value_counts(normalize = True).round(3) * 100\n",
    "\n",
    "# Creating a new dataframe \"price_counts_percentage_df\" to show the results in Percentage column\n",
    "\n",
    "price_counts_percentage_df = price_counts_percentage.reset_index()\n",
    "price_counts_percentage_df.columns = ['Price range' , 'Percentage']\n",
    "\n",
    "# To show % symbol in my column\n",
    " \n",
    "price_counts_percentage_df['Percentage'] = price_counts_percentage_df['Percentage'].astype(str) + '%'\n",
    "\n",
    "print(price_counts_percentage_df)"
   ]
  },
  {
   "cell_type": "markdown",
   "id": "790d9cc1-97e3-4f1e-baec-a80e8e3b6ebb",
   "metadata": {},
   "source": [
    "->TASK_4 - Online Delivery"
   ]
  },
  {
   "cell_type": "code",
   "execution_count": 19,
   "id": "b72be74a-77c8-4639-8b0a-b40db91406c7",
   "metadata": {},
   "outputs": [
    {
     "name": "stdout",
     "output_type": "stream",
     "text": [
      "Percentage of Restaurants that offer online delivery: 25.66%\n"
     ]
    }
   ],
   "source": [
    "# a. Determine the percentage of restaurants that offer online delivery.\n",
    "\n",
    "# Converting the 'Has Online delivery' column values into binary values\n",
    "dataframe['Has Online delivery'] = dataframe['Has Online delivery'].map({'Yes': 1, 'No': 0, 'YES': 1, 'NO': 0, 'yes': 1, 'no': 0}).fillna(0)\n",
    "\n",
    "total_restaurants = dataframe.shape[0]\n",
    "online_delivery_count = dataframe['Has Online delivery'].sum()\n",
    "\n",
    "#Calculate Percentage\n",
    "online_delivery_percentage = (online_delivery_count / total_restaurants) * 100\n",
    "\n",
    "print(f\"Percentage of Restaurants that offer online delivery: {online_delivery_percentage:.2f}%\")"
   ]
  },
  {
   "cell_type": "code",
   "execution_count": 20,
   "id": "a1364d93-4916-45fa-b517-f1554a2092a6",
   "metadata": {},
   "outputs": [
    {
     "name": "stdout",
     "output_type": "stream",
     "text": [
      "   Online delivery  Average rating\n",
      "0                0            2.47\n",
      "1                1            3.25\n"
     ]
    }
   ],
   "source": [
    "# b. Compare the average ratings of restaurants with and without online delivery.\n",
    "\n",
    "average_ratings = dataframe.groupby('Has Online delivery')['Aggregate rating'].mean().reset_index().round(2)\n",
    "average_ratings.columns = ['Online delivery', 'Average rating']\n",
    "print(average_ratings)"
   ]
  },
  {
   "cell_type": "markdown",
   "id": "de7b4d52-28dc-4bd8-bc0f-1dbcfcf0ddb3",
   "metadata": {},
   "source": [
    "----------------------------------------------------------------------------------LEVEL - 2 ------------------------------------------------------------------------------------------"
   ]
  },
  {
   "cell_type": "markdown",
   "id": "fc0a8484-f307-4ddf-95f3-92364ec0ca24",
   "metadata": {},
   "source": [
    "-> TASK_1 - Restaurants Ratings"
   ]
  },
  {
   "cell_type": "code",
   "execution_count": 39,
   "id": "a1bfd6cd-4a68-4caa-894b-40e7e1131b5c",
   "metadata": {},
   "outputs": [
    {
     "data": {
      "image/png": "[encoded data removed]",
      "text/plain": [
       "<Figure size 1000x800 with 1 Axes>"
      ]
     },
     "metadata": {},
     "output_type": "display_data"
    }
   ],
   "source": [
    "# a. Analyze the distribution of aggregate ratings and determine the most common rating range.\n",
    "\n",
    "# Plotting a \"Histogram\"\n",
    "\n",
    "plt.figure(figsize=(10, 8))\n",
    "plt.hist(dataframe['Aggregate rating'], bins= 20, edgecolor='black')\n",
    "plt.title('Distribution of Aggregate Ratings', fontsize = 15, fontweight = 'bold')\n",
    "plt.xlabel('Rating', fontsize = 10, fontweight = 'bold')\n",
    "plt.ylabel('Frequency',  fontsize = 10, fontweight = 'bold')\n",
    "plt.grid(True)\n",
    "plt.show()"
   ]
  },
  {
   "cell_type": "code",
   "execution_count": 38,
   "id": "4d55c02d-e1d2-440b-8ce6-ae3f71cf4b98",
   "metadata": {},
   "outputs": [
    {
     "name": "stdout",
     "output_type": "stream",
     "text": [
      "The average number of votes received by restaurants is: 156.91\n"
     ]
    }
   ],
   "source": [
    "# b. Calculate the average number of votes received by restaurants\n",
    "\n",
    "average_vote_counts = dataframe['Votes'].mean()\n",
    "print(f\"The average number of votes received by restaurants is: {average_vote_counts:.2f}\")"
   ]
  },
  {
   "cell_type": "markdown",
   "id": "8a2c3b1f-bcb0-44bc-85b2-f9ac9678656d",
   "metadata": {},
   "source": [
    "-> TASK_2 - Cuisine Combination"
   ]
  },
  {
   "cell_type": "code",
   "execution_count": 48,
   "id": "e5e6ed0c-aa9d-42a8-9208-834843da59b5",
   "metadata": {},
   "outputs": [
    {
     "name": "stdout",
     "output_type": "stream",
     "text": [
      "              Cuisine Combination  Count\n",
      "0                    North Indian    936\n",
      "1           Chinese, North Indian    616\n",
      "2           Mughlai, North Indian    394\n",
      "3                       Fast Food    354\n",
      "4                         Chinese    354\n",
      "5  Chinese, Mughlai, North Indian    306\n",
      "6                            Cafe    299\n",
      "7                          Bakery    218\n",
      "8                Bakery, Desserts    181\n",
      "9              Chinese, Fast Food    159\n"
     ]
    }
   ],
   "source": [
    "# a. Identify the most common combinations of cuisines in the dataset.\n",
    "\n",
    "# Split the cuisines by ',' and count combinations\n",
    "dataframe['Cuisines'] = dataframe['Cuisines'].dropna().str.split(', ').apply(lambda x:', '.join(sorted(x)))\n",
    "combination_counts = dataframe['Cuisines'].value_counts().reset_index()\n",
    "combination_counts.columns = ['Cuisine Combination', 'Count']\n",
    "most_common_combinations_df = combination_counts.head(10)\n",
    "\n",
    "print(most_common_combinations_df)"
   ]
  },
  {
   "cell_type": "code",
   "execution_count": 53,
   "id": "006fcd1d-efcf-48cc-9a49-b911614c2d0e",
   "metadata": {},
   "outputs": [
    {
     "name": "stdout",
     "output_type": "stream",
     "text": [
      "                             Cuisines  Aggregate rating\n",
      "1342                    World Cuisine               4.9\n",
      "31            American, BBQ, Sandwich               4.9\n",
      "132   American, Healthy Food, Mexican               4.9\n",
      "94           American, Coffee and Tea               4.9\n",
      "84       American, Caribbean, Seafood               4.9\n",
      "908            Contemporary, European               4.9\n",
      "1033                 European, German               4.9\n",
      "158           American, Sandwich, Tea               4.9\n",
      "412           Bar Food, Burger, Steak               4.9\n",
      "317          BBQ, Breakfast, Southern               4.9\n"
     ]
    }
   ],
   "source": [
    "# b. Determine if certain cuisine combinations tend to have higher ratings.\n",
    "\n",
    "dataframe['Cuisines'] = dataframe['Cuisines'].dropna().str.split(', ').apply(lambda x: ', '.join(sorted(x)))\n",
    "cuisine_ratings = dataframe.groupby('Cuisines')['Aggregate rating'].mean().reset_index()\n",
    "cuisine_ratings_sorted = cuisine_ratings.sort_values(by='Aggregate rating', ascending=False)\n",
    "print(cuisine_ratings_sorted.head(10))"
   ]
  },
  {
   "cell_type": "markdown",
   "id": "985ac1ca-478b-4551-b68b-6bc9adcdd19a",
   "metadata": {},
   "source": [
    "-> TASK_3 - Restaurant Chains"
   ]
  },
  {
   "cell_type": "code",
   "execution_count": 76,
   "id": "951ada4b-22e8-486f-b9ee-9890417e7746",
   "metadata": {},
   "outputs": [
    {
     "name": "stdout",
     "output_type": "stream",
     "text": [
      "Restaurant Name\n",
      "Cafe Coffee Day     83\n",
      "Domino's Pizza      79\n",
      "Subway              63\n",
      "Green Chick Chop    51\n",
      "McDonald's          48\n",
      "                    ..\n",
      "San Carlo            2\n",
      "Gymkhana             2\n",
      "Dishoom              2\n",
      "Timboo Cafe          2\n",
      "D�_vero��lu          2\n",
      "Name: count, Length: 734, dtype: int64\n"
     ]
    }
   ],
   "source": [
    "# a. Identify if there are any restaurant chains present in the dataset\n",
    "\n",
    "restaurant_counts = dataframe['Restaurant Name'].value_counts()\n",
    "chains = restaurant_counts[restaurant_counts > 1]\n",
    "chains.columns = ['Restaurant Name', 'Count']\n",
    "\n",
    "print(chains)"
   ]
  },
  {
   "cell_type": "code",
   "execution_count": 82,
   "id": "39422fcf-59c6-418e-ad86-f2ee41facfa6",
   "metadata": {},
   "outputs": [
    {
     "name": "stdout",
     "output_type": "stream",
     "text": [
      "Ratings and Popularity of Restaurant Chains: \n",
      "\n",
      "          Restaurant Name  avg_rating  total_votes\n",
      "0       10 Downing Street    4.000000          670\n",
      "1      221 B Baker Street    3.366667          215\n",
      "2      34 Parkstreet Lane    3.050000           31\n",
      "3    34, Chowringhee Lane    2.791667          777\n",
      "4          4700BC Popcorn    3.500000          176\n",
      "..                    ...         ...          ...\n",
      "729                 Zaika    2.850000          245\n",
      "730     Zaika Kathi Rolls    1.500000           16\n",
      "731                  Zizo    3.866667         1371\n",
      "732       Zooby's Kitchen    3.150000           52\n",
      "733                bu��no    3.750000          117\n",
      "\n",
      "[734 rows x 3 columns]\n"
     ]
    }
   ],
   "source": [
    "# b. Analyze the ratings and popularity of different restaurant chains\n",
    "\n",
    "restaurant_counts = dataframe['Restaurant Name'].value_counts()\n",
    "chains = restaurant_counts[restaurant_counts > 1].index\n",
    "chain_df = dataframe[dataframe['Restaurant Name'].isin(chains)]\n",
    "chain_analysis = chain_df.groupby('Restaurant Name').agg(avg_rating=('Aggregate rating', 'mean'),total_votes=('Votes', 'sum')).reset_index()\n",
    "\n",
    "print(\"Ratings and Popularity of Restaurant Chains: \\n\")\n",
    "print(chain_analysis)"
   ]
  },
  {
   "cell_type": "markdown",
   "id": "7a831609-0367-4a69-80c5-7b66c1f66828",
   "metadata": {},
   "source": [
    "--------------------------------------------------------------------------------LEVEL-3 ---------------------------------------------------------------------------------"
   ]
  },
  {
   "cell_type": "markdown",
   "id": "366d309b-9144-4cbb-97ab-02a6f6643175",
   "metadata": {},
   "source": [
    "->TASK_1 - Votes Analysis"
   ]
  },
  {
   "cell_type": "code",
   "execution_count": 86,
   "id": "c1dfc57c-e565-48fd-9e7f-acf3d64176ef",
   "metadata": {},
   "outputs": [
    {
     "name": "stdout",
     "output_type": "stream",
     "text": [
      "Restaurant(s) with the Highest Number of Votes:\n",
      "\n",
      "    Restaurant Name  Votes\n",
      "728            Toit  10934\n",
      "\n",
      "Restaurant(s) with the Lowest Number of Votes:\n",
      "\n",
      "                 Restaurant Name  Votes\n",
      "69              Cantinho da Gula      0\n",
      "874                The Chaiwalas      0\n",
      "879           Fusion Food Corner      0\n",
      "880                Punjabi Rasoi      0\n",
      "887                Baskin Robbin      0\n",
      "...                          ...    ...\n",
      "9044               6 Packs Momos      0\n",
      "9098                   Cafe' Wow      0\n",
      "9099  Chef's Basket Pop Up Caf��      0\n",
      "9103            The Hangout-Deli      0\n",
      "9111                    Platters      0\n",
      "\n",
      "[1094 rows x 2 columns]\n"
     ]
    }
   ],
   "source": [
    "# Identify the restaurants with the highest and lowest number of votes.\n",
    "\n",
    "highest_votes = dataframe[dataframe['Votes'] == dataframe['Votes'].max()]\n",
    "lowest_votes = dataframe[dataframe['Votes'] == dataframe['Votes'].min()]\n",
    "\n",
    "print(\"Restaurant(s) with the Highest Number of Votes:\\n\")\n",
    "print(highest_votes[['Restaurant Name', 'Votes']])\n",
    "\n",
    "print(\"\\nRestaurant(s) with the Lowest Number of Votes:\\n\")\n",
    "print(lowest_votes[['Restaurant Name', 'Votes']])"
   ]
  },
  {
   "cell_type": "markdown",
   "id": "7e85e9dc-3b60-4e26-99b2-8d231fa52ccf",
   "metadata": {},
   "source": [
    "->TASK_2 - Price Range vs. Online Delivery and Table Booking"
   ]
  },
  {
   "cell_type": "code",
   "execution_count": 103,
   "id": "c316f1b1-3f3e-4dba-aed2-aa6b909d09e7",
   "metadata": {},
   "outputs": [
    {
     "name": "stdout",
     "output_type": "stream",
     "text": [
      "Summary Statistics by Price Range:\n",
      "   Price range  online_delivery_rate  table_booking_rate\n",
      "0            1              0.157741            0.000225\n",
      "1            2              0.413106            0.076775\n",
      "2            3              0.291903            0.457386\n",
      "3            4              0.090444            0.467577\n"
     ]
    },
    {
     "data": {
      "image/png": "[encoded data removed]",
      "text/plain": [
       "<Figure size 1000x600 with 1 Axes>"
      ]
     },
     "metadata": {},
     "output_type": "display_data"
    },
    {
     "data": {
      "image/png": "[encoded data removed]",
      "text/plain": [
       "<Figure size 1000x600 with 1 Axes>"
      ]
     },
     "metadata": {},
     "output_type": "display_data"
    }
   ],
   "source": [
    "# Analyze if there is a relationship between the price range and the availability of online delivery and table booking.\n",
    "\n",
    "dataframe['Has Online delivery'] = dataframe['Has Online delivery'].apply(lambda x: 1 if x == 'Yes' else 0)\n",
    "dataframe['Has Table booking'] = dataframe['Has Table booking'].apply(lambda x: 1 if x == 'Yes' else 0)\n",
    "\n",
    "price_range_summary = dataframe.groupby('Price range').agg(online_delivery_rate=('Has Online delivery', 'mean'),table_booking_rate=('Has Table booking', 'mean')).reset_index()\n",
    "\n",
    "print(\"Summary Statistics by Price Range:\")\n",
    "print(price_range_summary)\n",
    "\n",
    "# To visualize the results we have to plot the bar plot for Online Delivery\n",
    "\n",
    "plt.figure(figsize=(10, 6))\n",
    "sns.barplot(x='Price range', y='online_delivery_rate', data=price_range_summary, palette='viridis')\n",
    "plt.xlabel('Price Range', fontsize = 10, fontweight = 'bold')\n",
    "plt.ylabel('Online Delivery Availability Rate', fontsize = 10, fontweight = 'bold')\n",
    "plt.title('Online Delivery Availability Rate by Price Range', fontsize = 15, fontweight = 'bold')\n",
    "plt.ylim(0, 1)\n",
    "plt.show()\n",
    "\n",
    "# To visualize the results we have to plot the bar plot for Online Delivery\n",
    "\n",
    "plt.figure(figsize=(10, 6))\n",
    "sns.barplot(x='Price range', y='table_booking_rate', data=price_range_summary, palette='viridis')\n",
    "plt.xlabel('Price Range', fontsize = 10, fontweight = 'bold')\n",
    "plt.ylabel('Table Booking Availability Rate', fontsize = 10, fontweight = 'bold')\n",
    "plt.title('Table Booking Availability Rate by Price Range', fontsize = 15, fontweight = 'bold')\n",
    "plt.ylim(0, 1)\n",
    "plt.show()"
   ]
  }
 ],
 "metadata": {
  "kernelspec": {
   "display_name": "Python 3 (ipykernel)",
   "language": "python",
   "name": "python3"
  },
  "language_info": {
   "codemirror_mode": {
    "name": "ipython",
    "version": 3
   },
   "file_extension": ".py",
   "mimetype": "text/x-python",
   "name": "python",
   "nbconvert_exporter": "python",
   "pygments_lexer": "ipython3",
   "version": "3.12.3"
  }
 },
 "nbformat": 4,
 "nbformat_minor": 5
}
